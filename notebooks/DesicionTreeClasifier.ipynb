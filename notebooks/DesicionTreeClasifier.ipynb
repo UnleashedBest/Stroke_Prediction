{
 "cells": [
  {
   "cell_type": "markdown",
   "id": "8022609e-e469-4f7e-b2c7-db5b5bc0debc",
   "metadata": {},
   "source": [
    "# Reading of Dataset"
   ]
  },
  {
   "cell_type": "code",
   "execution_count": 1,
   "id": "249dcb1f-3578-4c4a-a182-405cc9975aa3",
   "metadata": {},
   "outputs": [
    {
     "data": {
      "text/html": [
       "<div>\n",
       "<style scoped>\n",
       "    .dataframe tbody tr th:only-of-type {\n",
       "        vertical-align: middle;\n",
       "    }\n",
       "\n",
       "    .dataframe tbody tr th {\n",
       "        vertical-align: top;\n",
       "    }\n",
       "\n",
       "    .dataframe thead th {\n",
       "        text-align: right;\n",
       "    }\n",
       "</style>\n",
       "<table border=\"1\" class=\"dataframe\">\n",
       "  <thead>\n",
       "    <tr style=\"text-align: right;\">\n",
       "      <th></th>\n",
       "      <th>Unnamed: 0</th>\n",
       "      <th>id</th>\n",
       "      <th>gender</th>\n",
       "      <th>age</th>\n",
       "      <th>hypertension</th>\n",
       "      <th>heart_disease</th>\n",
       "      <th>ever_married</th>\n",
       "      <th>work_type</th>\n",
       "      <th>Residence_type</th>\n",
       "      <th>avg_glucose_level</th>\n",
       "      <th>bmi</th>\n",
       "      <th>smoking_status</th>\n",
       "      <th>stroke</th>\n",
       "    </tr>\n",
       "  </thead>\n",
       "  <tbody>\n",
       "    <tr>\n",
       "      <th>0</th>\n",
       "      <td>0</td>\n",
       "      <td>9046</td>\n",
       "      <td>1</td>\n",
       "      <td>67.0</td>\n",
       "      <td>0</td>\n",
       "      <td>1</td>\n",
       "      <td>1</td>\n",
       "      <td>1</td>\n",
       "      <td>1</td>\n",
       "      <td>228.69</td>\n",
       "      <td>36.6</td>\n",
       "      <td>2</td>\n",
       "      <td>1</td>\n",
       "    </tr>\n",
       "    <tr>\n",
       "      <th>1</th>\n",
       "      <td>2</td>\n",
       "      <td>31112</td>\n",
       "      <td>1</td>\n",
       "      <td>80.0</td>\n",
       "      <td>0</td>\n",
       "      <td>1</td>\n",
       "      <td>1</td>\n",
       "      <td>1</td>\n",
       "      <td>0</td>\n",
       "      <td>105.92</td>\n",
       "      <td>32.5</td>\n",
       "      <td>1</td>\n",
       "      <td>1</td>\n",
       "    </tr>\n",
       "    <tr>\n",
       "      <th>2</th>\n",
       "      <td>3</td>\n",
       "      <td>60182</td>\n",
       "      <td>0</td>\n",
       "      <td>49.0</td>\n",
       "      <td>0</td>\n",
       "      <td>0</td>\n",
       "      <td>1</td>\n",
       "      <td>1</td>\n",
       "      <td>1</td>\n",
       "      <td>171.23</td>\n",
       "      <td>34.4</td>\n",
       "      <td>3</td>\n",
       "      <td>1</td>\n",
       "    </tr>\n",
       "    <tr>\n",
       "      <th>3</th>\n",
       "      <td>4</td>\n",
       "      <td>1665</td>\n",
       "      <td>0</td>\n",
       "      <td>79.0</td>\n",
       "      <td>1</td>\n",
       "      <td>0</td>\n",
       "      <td>1</td>\n",
       "      <td>2</td>\n",
       "      <td>0</td>\n",
       "      <td>174.12</td>\n",
       "      <td>24.0</td>\n",
       "      <td>1</td>\n",
       "      <td>1</td>\n",
       "    </tr>\n",
       "    <tr>\n",
       "      <th>4</th>\n",
       "      <td>5</td>\n",
       "      <td>56669</td>\n",
       "      <td>1</td>\n",
       "      <td>81.0</td>\n",
       "      <td>0</td>\n",
       "      <td>0</td>\n",
       "      <td>1</td>\n",
       "      <td>1</td>\n",
       "      <td>1</td>\n",
       "      <td>186.21</td>\n",
       "      <td>29.0</td>\n",
       "      <td>2</td>\n",
       "      <td>1</td>\n",
       "    </tr>\n",
       "  </tbody>\n",
       "</table>\n",
       "</div>"
      ],
      "text/plain": [
       "   Unnamed: 0     id  gender   age  hypertension  heart_disease  ever_married  \\\n",
       "0           0   9046       1  67.0             0              1             1   \n",
       "1           2  31112       1  80.0             0              1             1   \n",
       "2           3  60182       0  49.0             0              0             1   \n",
       "3           4   1665       0  79.0             1              0             1   \n",
       "4           5  56669       1  81.0             0              0             1   \n",
       "\n",
       "   work_type  Residence_type  avg_glucose_level   bmi  smoking_status  stroke  \n",
       "0          1               1             228.69  36.6               2       1  \n",
       "1          1               0             105.92  32.5               1       1  \n",
       "2          1               1             171.23  34.4               3       1  \n",
       "3          2               0             174.12  24.0               1       1  \n",
       "4          1               1             186.21  29.0               2       1  "
      ]
     },
     "execution_count": 1,
     "metadata": {},
     "output_type": "execute_result"
    }
   ],
   "source": [
    "#Import Dataset\n",
    "#==============================================\n",
    "import pandas as pd\n",
    "URL = \"../data/processed/healthcare-dataset-stroke-data-T.csv\"\n",
    "df = pd.read_csv(URL)\n",
    "df.head()"
   ]
  },
  {
   "cell_type": "markdown",
   "id": "364d8058-9c5e-469c-b1fe-9bddc20d561e",
   "metadata": {},
   "source": [
    "# Training"
   ]
  },
  {
   "cell_type": "code",
   "execution_count": 2,
   "id": "98917700-0d70-4f87-a980-bab94cc102a5",
   "metadata": {},
   "outputs": [],
   "source": [
    "# Split the data into features (X) and labels (y)\n",
    "X = df.drop('stroke', axis=1)\n",
    "y = df['stroke']"
   ]
  },
  {
   "cell_type": "code",
   "execution_count": 3,
   "id": "de34ae4a-18d1-4983-aeb9-099ca2ab25c9",
   "metadata": {},
   "outputs": [],
   "source": [
    "# Initialize a StratifiedKFold object\n",
    "from sklearn.model_selection import StratifiedKFold\n",
    "skf = StratifiedKFold(n_splits=5, shuffle=True, random_state=0)"
   ]
  },
  {
   "cell_type": "code",
   "execution_count": 4,
   "id": "678edd69-e264-4b7f-afc8-3a4bf19dd3ee",
   "metadata": {},
   "outputs": [],
   "source": [
    "# Initialize lists to store the evaluation metrics\n",
    "accuracies = []\n",
    "precisions = []\n",
    "recalls = []\n",
    "f1s = []"
   ]
  },
  {
   "cell_type": "code",
   "execution_count": 5,
   "id": "1cba36af-a4d1-4ea3-80b1-177fdb8d0c36",
   "metadata": {},
   "outputs": [],
   "source": [
    "# Loop through the folds in the StratifiedKFold object\n",
    "from sklearn.metrics import accuracy_score, precision_score, recall_score, f1_score\n",
    "from sklearn.tree import DecisionTreeClassifier\n",
    "for train_index, test_index in skf.split(X, y):\n",
    "    X_train, X_test = X.iloc[train_index], X.iloc[test_index]\n",
    "    y_train, y_test = y.iloc[train_index], y.iloc[test_index]\n",
    "\n",
    "    # Train the Decision Tree Classifier on the training data\n",
    "    dt_clf = DecisionTreeClassifier()\n",
    "    dt_clf.fit(X_train, y_train)\n",
    "\n",
    "    # Predict the labels on the test data\n",
    "    y_pred = dt_clf.predict(X_test)\n",
    "\n",
    "    # Evaluate the performance of the Decision Tree Classifier on the test data\n",
    "    accuracy = accuracy_score(y_test, y_pred)\n",
    "    precision = precision_score(y_test, y_pred)\n",
    "    recall = recall_score(y_test, y_pred)\n",
    "    f1 = f1_score(y_test, y_pred)\n",
    "\n",
    "    # Append the evaluation metrics to the lists\n",
    "    accuracies.append(accuracy)\n",
    "    precisions.append(precision)\n",
    "    recalls.append(recall)\n",
    "    f1s.append(f1)"
   ]
  },
  {
   "cell_type": "code",
   "execution_count": 6,
   "id": "a50cb5f3-7282-4d47-a983-d6695b8facff",
   "metadata": {},
   "outputs": [],
   "source": [
    "# Compute the average of the evaluation metrics across all folds\n",
    "avg_accuracy = sum(accuracies) / len(accuracies)\n",
    "avg_precision = sum(precisions) / len(precisions)\n",
    "avg_recall = sum(recalls) / len(recalls)\n",
    "avg_f1 = sum(f1s) / len(f1s)"
   ]
  },
  {
   "cell_type": "code",
   "execution_count": 7,
   "id": "e9a0373e-3e03-49f5-ab5b-cbcce9b74cc0",
   "metadata": {},
   "outputs": [
    {
     "name": "stdout",
     "output_type": "stream",
     "text": [
      "Accuracy: 99.96%\n",
      "Precision: 99.53%\n",
      "Recall: 99.51%\n",
      "F1 Score: 99.52%\n"
     ]
    }
   ],
   "source": [
    "# Print the metrics as percentages\n",
    "print(f'Accuracy: {avg_accuracy * 100:.2f}%')\n",
    "print(f'Precision: {avg_precision * 100:.2f}%')\n",
    "print(f'Recall: {avg_recall * 100:.2f}%')\n",
    "print(f'F1 Score: {avg_f1 * 100:.2f}%')"
   ]
  },
  {
   "cell_type": "code",
   "execution_count": 8,
   "id": "b8f097e2-8ffb-4f27-aef8-6fb81523bb0b",
   "metadata": {},
   "outputs": [
    {
     "data": {
      "text/plain": [
       "'heart_strike_tree.pdf'"
      ]
     },
     "execution_count": 8,
     "metadata": {},
     "output_type": "execute_result"
    }
   ],
   "source": [
    "# Visualize the final decision tree\n",
    "import graphviz\n",
    "from sklearn.tree import export_graphviz\n",
    "dot_data = export_graphviz(dt_clf, out_file=None, feature_names=X.columns, class_names=['Negative', 'Positive'], filled=True, rounded=True)\n",
    "graph = graphviz.Source(dot_data)\n",
    "graph.render(\"heart_strike_tree\")"
   ]
  },
  {
   "cell_type": "markdown",
   "id": "c77c0003-856d-454e-bc68-da2e6e2d7cc1",
   "metadata": {},
   "source": [
    "# Saving with pickle"
   ]
  },
  {
   "cell_type": "code",
   "execution_count": 10,
   "id": "2fa58801-9b33-4725-8c95-004ddd60d9b9",
   "metadata": {},
   "outputs": [],
   "source": [
    "import pickle\n",
    "# Dump the trained decision tree classifier with Pickle\n",
    "decision_tree_pkl_filename = '../models/decision_tree_classifier.pkl'\n",
    "# Open the file to save as pkl file\n",
    "with open(decision_tree_pkl_filename,\"wb\") as f:\n",
    "    pickle.dump(dt_clf,f)"
   ]
  },
  {
   "cell_type": "code",
   "execution_count": null,
   "id": "3b309dba-dee7-418a-8a67-10945fd5ba23",
   "metadata": {},
   "outputs": [],
   "source": []
  }
 ],
 "metadata": {
  "kernelspec": {
   "display_name": "Python 3 (ipykernel)",
   "language": "python",
   "name": "python3"
  },
  "language_info": {
   "codemirror_mode": {
    "name": "ipython",
    "version": 3
   },
   "file_extension": ".py",
   "mimetype": "text/x-python",
   "name": "python",
   "nbconvert_exporter": "python",
   "pygments_lexer": "ipython3",
   "version": "3.10.6"
  }
 },
 "nbformat": 4,
 "nbformat_minor": 5
}
